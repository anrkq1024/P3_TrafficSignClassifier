{
 "cells": [
  {
   "cell_type": "markdown",
   "metadata": {},
   "source": [
    "# Udacity - SDCND Project : Traffic sign classifier\n",
    "- ## deep leanrning \n",
    "\n",
    "## Implement Traffic_Sign_Classifier using LeNet of the CNN architecture"
   ]
  },
  {
   "cell_type": "markdown",
   "metadata": {},
   "source": [
    "# Step 1 - Load The Data"
   ]
  },
  {
   "cell_type": "code",
   "execution_count": 1,
   "metadata": {},
   "outputs": [],
   "source": [
    "import pickle\n",
    "\n",
    "training_file = '/home/nsslab/Downloads/traffic-signs-data/train.p'\n",
    "validation_file='/home/nsslab/Downloads/traffic-signs-data/valid.p'\n",
    "testing_file = '/home/nsslab/Downloads/traffic-signs-data/test.p'\n",
    "\n",
    "with open(training_file, mode='rb') as f:\n",
    "    train = pickle.load(f)\n",
    "with open(validation_file, mode='rb') as f:\n",
    "    valid = pickle.load(f)\n",
    "with open(testing_file, mode='rb') as f:\n",
    "    test = pickle.load(f)\n",
    "    \n",
    "X_train, y_train = train['features'], train['labels']\n",
    "X_valid, y_valid = valid['features'], valid['labels']\n",
    "X_test, y_test = test['features'], test['labels']"
   ]
  },
  {
   "cell_type": "markdown",
   "metadata": {},
   "source": [
    "# Step 2 - Dataset Summary & Exploratory                           Visualization"
   ]
  },
  {
   "cell_type": "markdown",
   "metadata": {},
   "source": [
    "## Dataset Summary\n",
    "- 'features' is a 4D array containing raw pixel data of the traffic sign images, (num examples, width, height, channels)\n",
    "- 'labels' is a 1D array containing the label/class id of the traffic sign. The file signnames.csv contains id -> name mappings for each id"
   ]
  },
  {
   "cell_type": "code",
   "execution_count": 2,
   "metadata": {},
   "outputs": [
    {
     "name": "stdout",
     "output_type": "stream",
     "text": [
      "Number of training examples = 34799\n",
      "Number of validation example  4410\n",
      "Number of testing examples = 12630\n",
      "Image data shape = (32, 32, 3)\n",
      "Number of classes = 43\n"
     ]
    }
   ],
   "source": [
    "import numpy as np\n",
    "\n",
    "n_train = len(X_train)\n",
    "\n",
    "n_validation = len(X_valid)\n",
    "\n",
    "n_test = len(X_test)\n",
    "\n",
    "image_shape = X_train[0].shape\n",
    "\n",
    "n_classes = len(np.unique(y_train))\n",
    "\n",
    "print(\"Number of training examples =\", n_train)\n",
    "print(\"Number of validation example \",n_validation)\n",
    "print(\"Number of testing examples =\", n_test)\n",
    "print(\"Image data shape =\", image_shape)\n",
    "print(\"Number of classes =\", n_classes)"
   ]
  },
  {
   "cell_type": "markdown",
   "metadata": {},
   "source": [
    "## Visualize Data"
   ]
  },
  {
   "cell_type": "markdown",
   "metadata": {},
   "source": [
    "- Visualize training images on each class and display class number & each percentage about the total"
   ]
  },
  {
   "cell_type": "code",
   "execution_count": 4,
   "metadata": {},
   "outputs": [
    {
     "name": "stderr",
     "output_type": "stream",
     "text": [
      "/home/nsslab/.local/lib/python3.5/site-packages/ipykernel_launcher.py:39: FutureWarning: comparison to `None` will result in an elementwise object comparison in the future.\n"
     ]
    }
   ],
   "source": [
    "import matplotlib.pyplot as plt\n",
    "def plot_image(image, nr, nc, i, label=\"\"):\n",
    "       \n",
    "    if i>0: \n",
    "        plt.subplot(nr, nc, i)\n",
    "    else:\n",
    "        plt.figure(figsize=(nr,nc))\n",
    "        \n",
    "    plt.xticks(())\n",
    "    plt.yticks(())\n",
    "    plt.xlabel(label)\n",
    "    plt.tight_layout()\n",
    "    plt.imshow(image, cmap=\"gray\")\n",
    "\n",
    "    \n",
    "import random\n",
    "def plot_random(dataset1, dataset2=None, instances=1):\n",
    "\n",
    "    nc = 1 if dataset2 is None else 2\n",
    "    nr = instances\n",
    "    #plt.figure(figsize=(nr,nc))\n",
    "    for i in range(instances):\n",
    "        index = random.randint(0, len(dataset1))\n",
    "        plot_image(dataset1[index].squeeze(), nr, nc, 2*i+1)\n",
    "        if dataset2 is not None:\n",
    "            image = dataset2[index].squeeze()\n",
    "            plot_image(image, nr, nc, 2*i+2)\n",
    "            print(\"image mean=\", image.mean())\n",
    "\n",
    "\n",
    "from scipy import misc\n",
    "def get_image_per_class(X, y):\n",
    "   \n",
    "    signs_left = n_classes\n",
    "    class_images = [None for x in range(signs_left)]\n",
    "\n",
    "    i = 0\n",
    "    while signs_left>0:\n",
    "        if class_images[y[i]] == None:\n",
    "            image = X[i].squeeze()\n",
    "            class_images[y[i]] = image\n",
    "            signs_left -= 1\n",
    "        i += 1\n",
    "    return class_images\n",
    "\n",
    "\n",
    "def summarize_stats(class_images, y_train, y_valid):\n",
    "    \n",
    "    # Create a histogram of the classes\n",
    "    y_train_hist = np.bincount(y_train)\n",
    "    y_valid_hist = np.bincount(y_valid)\n",
    "\n",
    "    nr = 5; nc = 9\n",
    "    plt.figure(figsize=(nr,nc))\n",
    "    for image,i in zip(class_images, range(len(class_images))):\n",
    "        label = (str(i) + \"\\n\"                                            # class\n",
    "              + str(y_train_hist[i]) + \"\\n\"                               # no. of training samples\n",
    "              + \"{:.1f}%\".format(100 * y_train_hist[i]/sum(y_train_hist))  + \"\\n\"   # representation in training samples\n",
    "              + \"{:.1f}%\".format(100 * y_valid_hist[i]/sum(y_valid_hist)))     # representation in validation samples\n",
    "        plot_image(image, nr, nc, i+1, label)\n",
    "        \n",
    "class_images = get_image_per_class(X_train, y_train)\n",
    "summarize_stats(class_images, y_train, y_valid)\n",
    "        "
   ]
  },
  {
   "cell_type": "code",
   "execution_count": 5,
   "metadata": {},
   "outputs": [
    {
     "name": "stderr",
     "output_type": "stream",
     "text": [
      "/home/nsslab/.local/lib/python3.5/site-packages/ipykernel_launcher.py:39: FutureWarning: comparison to `None` will result in an elementwise object comparison in the future.\n"
     ]
    },
    {
     "data": {
      "image/png": "[encoded data removed]",
      "text/plain": [
       "<matplotlib.figure.Figure at 0x7f812dbfe748>"
      ]
     },
     "metadata": {},
     "output_type": "display_data"
    }
   ],
   "source": [
    "class_images = get_image_per_class(X_train, y_train)\n",
    "summarize_stats(class_images, y_train, y_valid)"
   ]
  },
  {
   "cell_type": "markdown",
   "metadata": {},
   "source": [
    "# Step 3 - Design and Train a Model Architecture\n",
    "## Preprocess Data\n",
    "- convert RGB images to GRAY images\n",
    "\n",
    " As shown in the figure below, Converting from rgb to gray allows the classifier to better recognize the sign.     \n",
    " I will show it directly through the picture."
   ]
  },
  {
   "cell_type": "code",
   "execution_count": 6,
   "metadata": {},
   "outputs": [
    {
     "name": "stdout",
     "output_type": "stream",
     "text": [
      "Original image\n"
     ]
    },
    {
     "data": {
      "image/png": "[encoded data removed]",
      "text/plain": [
       "<matplotlib.figure.Figure at 0x7f8114dea860>"
      ]
     },
     "metadata": {},
     "output_type": "display_data"
    }
   ],
   "source": [
    "import matplotlib.pyplot as plt\n",
    "\n",
    "def get_num_instances(img_class, y):\n",
    "    y_hist = np.bincount(y)\n",
    "    n_instances = y_hist[img_class]\n",
    "    return n_instances\n",
    "\n",
    "def get_class_images(img_class, X, y):\n",
    "    n_instances = get_num_instances(img_class, y)\n",
    "    class_images = []\n",
    "    i = 0\n",
    "    while n_instances>0:\n",
    "        if y[i] == img_class:\n",
    "            image = X[i].squeeze()\n",
    "            class_images.append(image)\n",
    "            n_instances -= 1\n",
    "        i += 1\n",
    "    return class_images\n",
    "\n",
    "import math\n",
    "def plot_class_images(img_class, class_images, ncol, desc):\n",
    "    nimages = len(class_images)\n",
    "    nrow = math.ceil(nimages/ncol)\n",
    "    #plt.figure(figsize=(nrow,ncol))\n",
    "    print(\"class {} has {} images in the {} dataset\".format(img_class,nimages, desc))\n",
    "    for image,i in zip(class_images, range(nimages)):\n",
    "        plot_image(image, nrow, ncol, i)\n",
    "    \n",
    "def plot_class(img_class, X, y, ncol, desc):\n",
    "    class_images = get_class_images(img_class, X, y)\n",
    "    plot_class_images(img_class, class_images, ncol,  desc)\n",
    "    \n",
    "class_images = get_class_images(20, X_train, y_train)\n",
    "print(\"Original image\")\n",
    "for i in range(4):\n",
    "    plot_image(class_images[i], 1, 4, i+1)"
   ]
  },
  {
   "cell_type": "markdown",
   "metadata": {},
   "source": [
    "RGB_images may look dark, but gray_images may show a sign outline"
   ]
  },
  {
   "cell_type": "code",
   "execution_count": 7,
   "metadata": {},
   "outputs": [
    {
     "name": "stdout",
     "output_type": "stream",
     "text": [
      "Gray image\n"
     ]
    },
    {
     "data": {
      "image/png": "[encoded data removed]",
      "text/plain": [
       "<matplotlib.figure.Figure at 0x7f8114b511d0>"
      ]
     },
     "metadata": {},
     "output_type": "display_data"
    }
   ],
   "source": [
    "def rgb2gray2d(X):\n",
    "    gray_img = np.dot(X, [0.299, 0.587, 0.114])\n",
    "    gray_img = gray_img.reshape(len(X),32,32)\n",
    "    return gray_img\n",
    "\n",
    "dark_images = [class_images[i] for i in range(4)]\n",
    "gray_img = rgb2gray2d(dark_images)\n",
    "print(\"Gray image\")\n",
    "for i in range(4):\n",
    "    plot_image(gray_img[i], 1, 4, i+1)"
   ]
  },
  {
   "cell_type": "code",
   "execution_count": 8,
   "metadata": {},
   "outputs": [],
   "source": [
    "def gray(x):\n",
    "    x = np.sum(x/3, axis=3, keepdims=True)\n",
    "    x = np.sum(x/3, axis=3, keepdims=True)\n",
    "    return x\n",
    "X_train = gray(X_train)\n",
    "X_valid = gray(X_valid)\n",
    "X_test  = gray(X_test)"
   ]
  },
  {
   "cell_type": "markdown",
   "metadata": {},
   "source": [
    "- Normalization the data"
   ]
  },
  {
   "cell_type": "code",
   "execution_count": 9,
   "metadata": {},
   "outputs": [],
   "source": [
    "def Norm(x):\n",
    "    x = x / 255\n",
    "    x -= np.mean(x)\n",
    "    x /= np.std(x)\n",
    "    return x\n",
    "\n",
    "X_train = Norm(X_train)\n",
    "X_valid = Norm(X_valid)\n",
    "X_test  = Norm(X_test)\n",
    "    "
   ]
  },
  {
   "cell_type": "markdown",
   "metadata": {},
   "source": [
    "- Shuffle the training data\n",
    "\n",
    " Randomly mix sequences of the data so that the sequence of the data does not affect learning"
   ]
  },
  {
   "cell_type": "code",
   "execution_count": 10,
   "metadata": {},
   "outputs": [],
   "source": [
    "from sklearn.utils import shuffle\n",
    "X_train, y_train = shuffle(X_train, y_train)"
   ]
  },
  {
   "cell_type": "markdown",
   "metadata": {},
   "source": [
    "## Model Architecture"
   ]
  },
  {
   "cell_type": "code",
   "execution_count": 11,
   "metadata": {},
   "outputs": [],
   "source": [
    "import tensorflow as tf\n",
    "epoch = 50\n",
    "batch_size = 155\n",
    "from tensorflow.contrib.layers import flatten\n",
    "\n",
    "def LeNet(x):\n",
    "    #Set hyperparameter\n",
    "    mn = 0\n",
    "    sigma = 0.1\n",
    "    \n",
    "    \"\"\"\n",
    "    #Convolutional Layer1 input : 32*32*1 output = 28*28*10\n",
    "    \"\"\"\n",
    "    conv1_w = tf.Variable(tf.truncated_normal(shape=(5 ,5 ,1 ,10), mean = mn , stddev = sigma))\n",
    "    conv1_b = tf.Variable(tf.zeros(10))\n",
    "    conv1 = tf.nn.conv2d(x, conv1_w, strides=[1, 1, 1, 1], padding = 'VALID') + conv1_b\n",
    "    \n",
    "    #Activation\n",
    "    conv1 = tf.nn.relu(conv1)\n",
    "    \n",
    "    \"\"\"\n",
    "    #Max_pool Layer1 input : 28*28*10 output = 14*14*10\n",
    "    \"\"\"\n",
    "    \n",
    "    conv1 = tf.nn.max_pool(conv1, ksize=[1, 2, 2, 1], strides=[1, 2, 2, 1], padding = 'VALID')\n",
    "    \n",
    "    \"\"\"\n",
    "    #Convolutional Layer2 input : 14*14*10 output = 10*10*25\n",
    "    \"\"\"\n",
    "    \n",
    "    conv2_w = tf.Variable(tf.truncated_normal(shape=(5 ,5 ,10 ,25), mean = mn , stddev = sigma))\n",
    "    conv2_b = tf.Variable(tf.zeros(25))\n",
    "    conv2 = tf.nn.conv2d(conv1, conv2_w, strides=[1, 1, 1, 1], padding = 'VALID') + conv2_b\n",
    "    \n",
    "    #Activation\n",
    "    conv2 = tf.nn.relu(conv2)\n",
    "    \"\"\"\n",
    "    #Max_pool Layer2 input : 10*10*25 output = 5*5*25\n",
    "    \"\"\"\n",
    "    \n",
    "    conv2 = tf.nn.max_pool(conv2, ksize=[1, 2, 2, 1], strides=[1, 2, 2, 1], padding = 'VALID')\n",
    "    \n",
    "    \"\"\"\n",
    "    3 #Fully connected Layer3 input = 5*5*25 = 625 output = 250\n",
    "    \"\"\"\n",
    "    \n",
    "    #Flatten input = 5*5*25 output = 625\n",
    "    f_conv0 = flatten(conv2)\n",
    "       \n",
    "    f_w1 = tf.Variable(tf.truncated_normal(shape=(625,250), mean = mn , stddev = sigma))\n",
    "    f_b1 = tf.Variable(tf.zeros(250))\n",
    "    f_conv1 = tf.matmul(f_conv0, f_w1) + f_b1\n",
    "    \n",
    "    #Activation\n",
    "    f_conv1 = tf.nn.relu(f_conv1)\n",
    "    \"\"\"\n",
    "     Apply dropout to prevent overfitting  \n",
    "     The probability that a node will be transported to the next layer is 75%\n",
    "    \"\"\"\n",
    "    \n",
    "    f_conv1 = tf.nn.dropout(f_conv1, 0.75)\n",
    "    \n",
    "    \"\"\"\n",
    "    4 #Fully connected Layer4 input = 250 output = 86\n",
    "    \"\"\"\n",
    "    \n",
    "    f_w2 = tf.Variable(tf.truncated_normal(shape=(250,86), mean = mn , stddev = sigma))\n",
    "    f_b2 = tf.Variable(tf.zeros(86))\n",
    "    f_conv2 = tf.matmul(f_conv1, f_w2) + f_b2\n",
    "    \n",
    "    #Activation\n",
    "    f_conv2 = tf.nn.relu(f_conv2)\n",
    "    \n",
    "    \"\"\"\n",
    "     Apply dropout to prevent overfitting  \n",
    "    \"\"\"\n",
    "    f_conv2 = tf.nn.dropout(f_conv2, 0.75)\n",
    "    \n",
    "    \"\"\"\n",
    "    5 #Fully connected Layer5 input = 84 output = 43\n",
    "    \"\"\"\n",
    "    \n",
    "    f_w3 = tf.Variable(tf.truncated_normal(shape=(86,43), mean = mn , stddev = sigma))\n",
    "    f_b3 = tf.Variable(tf.zeros(43))\n",
    "    \n",
    "    \"\"\"\n",
    "    Finally, proccessed values mean logits\n",
    "    \"\"\"\n",
    "    \n",
    "    #Predicted output\n",
    "    logits = tf.matmul(f_conv2, f_w3) + f_b3\n",
    "    \n",
    "    return logits"
   ]
  },
  {
   "cell_type": "markdown",
   "metadata": {},
   "source": [
    "## Optimization to minimize the difference between the actual value and the predicted value\n",
    "\n",
    "- AdamOptimizer is a kind of the stochastic gradient descent algorithm\n",
    " The optimization is performed by obtaining the gradient descent direction for some randomly selected data without obtaining the gradient descent direction of the whole data. Repeatedly doing this process can minimize the loss function more efficiently than optimizing for very large data"
   ]
  },
  {
   "cell_type": "code",
   "execution_count": 12,
   "metadata": {},
   "outputs": [],
   "source": [
    "#because the final size of the batches is not constant, the first element is None\n",
    "x = tf.placeholder(tf.float32, (None, 32, 32, 1))\n",
    "\n",
    "y = tf.placeholder(tf.int32, (None))\n",
    "\n",
    "one_hot_y = tf.one_hot(y,43)    \n",
    "#learning rate\n",
    "rate = 0.001\n",
    "logits = LeNet(x)\n",
    "cross_entropy = tf.nn.softmax_cross_entropy_with_logits(logits, one_hot_y)\n",
    "loss_operation = tf.reduce_mean(cross_entropy)\n",
    "optimizer = tf.train.AdamOptimizer(learning_rate = rate)\n",
    "training_operation = optimizer.minimize(loss_operation)"
   ]
  },
  {
   "cell_type": "markdown",
   "metadata": {},
   "source": [
    "## Model Evaluation\n",
    "\n",
    "Check how much the predicted and actual labels match."
   ]
  },
  {
   "cell_type": "code",
   "execution_count": 13,
   "metadata": {},
   "outputs": [],
   "source": [
    "correct_prediction = tf.equal(tf.argmax(logits, 1), tf.argmax(one_hot_y, 1))\n",
    "accuracy_operation = tf.reduce_mean(tf.cast(correct_prediction, tf.float32))\n",
    "\n",
    "def evaluation(X_data, y_data):\n",
    "    num_examples = len(X_data)\n",
    "    total_accuracy = 0\n",
    "    sess = tf.get_default_session()\n",
    "    for offset in range(0, num_examples, batch_size):\n",
    "        batch_x, batch_y = X_data[offset:offset+batch_size], y_data[offset:offset+batch_size]\n",
    "        accuracy = sess.run(accuracy_operation, feed_dict = {x:batch_x, y:batch_y})\n",
    "        total_accuracy += (accuracy*len(batch_x))\n",
    "    return total_accuracy / num_examples"
   ]
  },
  {
   "cell_type": "markdown",
   "metadata": {},
   "source": [
    "## Train the model and than validate&test it"
   ]
  },
  {
   "cell_type": "code",
   "execution_count": 15,
   "metadata": {
    "scrolled": false
   },
   "outputs": [
    {
     "name": "stdout",
     "output_type": "stream",
     "text": [
      "Training...\n",
      "\n",
      "epoch 1...\n",
      "Train Accuracy = 0.754\n",
      "Validation Accuracy = 0.693\n",
      "Test Accuracy = 0.683\n",
      "\n",
      "epoch 2...\n",
      "Train Accuracy = 0.893\n",
      "Validation Accuracy = 0.822\n",
      "Test Accuracy = 0.822\n",
      "\n",
      "epoch 3...\n",
      "Train Accuracy = 0.938\n",
      "Validation Accuracy = 0.867\n",
      "Test Accuracy = 0.863\n",
      "\n",
      "epoch 4...\n",
      "Train Accuracy = 0.961\n",
      "Validation Accuracy = 0.888\n",
      "Test Accuracy = 0.884\n",
      "\n",
      "epoch 5...\n",
      "Train Accuracy = 0.967\n",
      "Validation Accuracy = 0.892\n",
      "Test Accuracy = 0.887\n",
      "\n",
      "epoch 6...\n",
      "Train Accuracy = 0.975\n",
      "Validation Accuracy = 0.897\n",
      "Test Accuracy = 0.899\n",
      "\n",
      "epoch 7...\n",
      "Train Accuracy = 0.980\n",
      "Validation Accuracy = 0.912\n",
      "Test Accuracy = 0.905\n",
      "\n",
      "epoch 8...\n",
      "Train Accuracy = 0.984\n",
      "Validation Accuracy = 0.915\n",
      "Test Accuracy = 0.902\n",
      "\n",
      "epoch 9...\n",
      "Train Accuracy = 0.984\n",
      "Validation Accuracy = 0.917\n",
      "Test Accuracy = 0.905\n",
      "\n",
      "epoch 10...\n",
      "Train Accuracy = 0.986\n",
      "Validation Accuracy = 0.919\n",
      "Test Accuracy = 0.910\n",
      "\n",
      "epoch 11...\n",
      "Train Accuracy = 0.988\n",
      "Validation Accuracy = 0.923\n",
      "Test Accuracy = 0.910\n",
      "\n",
      "epoch 12...\n",
      "Train Accuracy = 0.989\n",
      "Validation Accuracy = 0.914\n",
      "Test Accuracy = 0.915\n",
      "\n",
      "epoch 13...\n",
      "Train Accuracy = 0.991\n",
      "Validation Accuracy = 0.932\n",
      "Test Accuracy = 0.917\n",
      "\n",
      "epoch 14...\n",
      "Train Accuracy = 0.992\n",
      "Validation Accuracy = 0.929\n",
      "Test Accuracy = 0.914\n",
      "\n",
      "epoch 15...\n",
      "Train Accuracy = 0.993\n",
      "Validation Accuracy = 0.929\n",
      "Test Accuracy = 0.920\n",
      "\n",
      "epoch 16...\n",
      "Train Accuracy = 0.990\n",
      "Validation Accuracy = 0.932\n",
      "Test Accuracy = 0.913\n",
      "\n",
      "epoch 17...\n",
      "Train Accuracy = 0.995\n",
      "Validation Accuracy = 0.931\n",
      "Test Accuracy = 0.921\n",
      "\n",
      "epoch 18...\n",
      "Train Accuracy = 0.995\n",
      "Validation Accuracy = 0.937\n",
      "Test Accuracy = 0.925\n",
      "\n",
      "epoch 19...\n",
      "Train Accuracy = 0.993\n",
      "Validation Accuracy = 0.929\n",
      "Test Accuracy = 0.922\n",
      "\n",
      "epoch 20...\n",
      "Train Accuracy = 0.993\n",
      "Validation Accuracy = 0.938\n",
      "Test Accuracy = 0.926\n",
      "\n",
      "epoch 21...\n",
      "Train Accuracy = 0.993\n",
      "Validation Accuracy = 0.934\n",
      "Test Accuracy = 0.924\n",
      "\n",
      "epoch 22...\n",
      "Train Accuracy = 0.994\n",
      "Validation Accuracy = 0.932\n",
      "Test Accuracy = 0.920\n",
      "\n",
      "epoch 23...\n",
      "Train Accuracy = 0.995\n",
      "Validation Accuracy = 0.939\n",
      "Test Accuracy = 0.928\n",
      "\n",
      "epoch 24...\n",
      "Train Accuracy = 0.995\n",
      "Validation Accuracy = 0.938\n",
      "Test Accuracy = 0.925\n",
      "\n",
      "epoch 25...\n",
      "Train Accuracy = 0.996\n",
      "Validation Accuracy = 0.938\n",
      "Test Accuracy = 0.928\n",
      "\n",
      "epoch 26...\n",
      "Train Accuracy = 0.995\n",
      "Validation Accuracy = 0.930\n",
      "Test Accuracy = 0.923\n",
      "\n",
      "epoch 27...\n",
      "Train Accuracy = 0.997\n",
      "Validation Accuracy = 0.939\n",
      "Test Accuracy = 0.930\n",
      "\n",
      "epoch 28...\n",
      "Train Accuracy = 0.997\n",
      "Validation Accuracy = 0.940\n",
      "Test Accuracy = 0.929\n",
      "\n",
      "epoch 29...\n",
      "Train Accuracy = 0.990\n",
      "Validation Accuracy = 0.927\n",
      "Test Accuracy = 0.918\n",
      "\n",
      "epoch 30...\n",
      "Train Accuracy = 0.996\n",
      "Validation Accuracy = 0.940\n",
      "Test Accuracy = 0.928\n",
      "\n",
      "epoch 31...\n",
      "Train Accuracy = 0.997\n",
      "Validation Accuracy = 0.941\n",
      "Test Accuracy = 0.934\n",
      "\n",
      "epoch 32...\n",
      "Train Accuracy = 0.996\n",
      "Validation Accuracy = 0.934\n",
      "Test Accuracy = 0.931\n",
      "\n",
      "epoch 33...\n",
      "Train Accuracy = 0.996\n",
      "Validation Accuracy = 0.937\n",
      "Test Accuracy = 0.929\n",
      "\n",
      "epoch 34...\n",
      "Train Accuracy = 0.998\n",
      "Validation Accuracy = 0.936\n",
      "Test Accuracy = 0.933\n",
      "\n",
      "epoch 35...\n",
      "Train Accuracy = 0.997\n",
      "Validation Accuracy = 0.934\n",
      "Test Accuracy = 0.934\n",
      "\n",
      "epoch 36...\n",
      "Train Accuracy = 0.996\n",
      "Validation Accuracy = 0.948\n",
      "Test Accuracy = 0.935\n",
      "\n",
      "epoch 37...\n",
      "Train Accuracy = 0.996\n",
      "Validation Accuracy = 0.934\n",
      "Test Accuracy = 0.924\n",
      "\n",
      "epoch 38...\n",
      "Train Accuracy = 0.997\n",
      "Validation Accuracy = 0.942\n",
      "Test Accuracy = 0.931\n",
      "\n",
      "epoch 39...\n",
      "Train Accuracy = 0.997\n",
      "Validation Accuracy = 0.936\n",
      "Test Accuracy = 0.932\n",
      "\n",
      "epoch 40...\n",
      "Train Accuracy = 0.997\n",
      "Validation Accuracy = 0.944\n",
      "Test Accuracy = 0.933\n",
      "\n",
      "epoch 41...\n",
      "Train Accuracy = 0.996\n",
      "Validation Accuracy = 0.943\n",
      "Test Accuracy = 0.925\n",
      "\n",
      "epoch 42...\n",
      "Train Accuracy = 0.998\n",
      "Validation Accuracy = 0.941\n",
      "Test Accuracy = 0.931\n",
      "\n",
      "epoch 43...\n",
      "Train Accuracy = 0.996\n",
      "Validation Accuracy = 0.940\n",
      "Test Accuracy = 0.929\n",
      "\n",
      "epoch 44...\n",
      "Train Accuracy = 0.997\n",
      "Validation Accuracy = 0.940\n",
      "Test Accuracy = 0.928\n",
      "\n",
      "epoch 45...\n",
      "Train Accuracy = 0.998\n",
      "Validation Accuracy = 0.953\n",
      "Test Accuracy = 0.939\n",
      "\n",
      "epoch 46...\n",
      "Train Accuracy = 0.996\n",
      "Validation Accuracy = 0.935\n",
      "Test Accuracy = 0.930\n",
      "\n",
      "epoch 47...\n",
      "Train Accuracy = 0.998\n",
      "Validation Accuracy = 0.950\n",
      "Test Accuracy = 0.938\n",
      "\n",
      "epoch 48...\n",
      "Train Accuracy = 0.998\n",
      "Validation Accuracy = 0.943\n",
      "Test Accuracy = 0.937\n",
      "\n",
      "epoch 49...\n",
      "Train Accuracy = 0.998\n",
      "Validation Accuracy = 0.951\n",
      "Test Accuracy = 0.935\n",
      "\n",
      "epoch 50...\n",
      "Train Accuracy = 0.998\n",
      "Validation Accuracy = 0.951\n",
      "Test Accuracy = 0.935\n",
      "\n",
      "Model saved\n"
     ]
    }
   ],
   "source": [
    "with tf.Session() as sess:\n",
    "    sess.run(tf.global_variables_initializer())\n",
    "    num_examples = len(X_train)\n",
    "    \n",
    "    print(\"Training...\")\n",
    "    print()\n",
    "    save_file = './save_train.ckpt'\n",
    "    \n",
    "    validation_accuracy_graph = []\n",
    "    test_accuracy_graph = []\n",
    "    train_accuracy_graph = []\n",
    "    \n",
    "    for i in range(epoch):\n",
    "        X_train, y_train = shuffle(X_train, y_train)\n",
    "        \n",
    "        for offset in range(0, num_examples, batch_size):\n",
    "            end = offset + batch_size\n",
    "            batch_x, batch_y = X_train[offset:end], y_train[offset:end]\n",
    "            sess.run(training_operation, feed_dict={x: batch_x, y: batch_y})\n",
    "            \n",
    "        train_accuracy = evaluation(X_train, y_train)\n",
    "        validation_accuracy = evaluation(X_valid, y_valid)\n",
    "        test_accuracy = evaluation(X_test, y_test)       \n",
    "        \n",
    "        validation_accuracy_graph.append(validation_accuracy)\n",
    "        test_accuracy_graph.append(test_accuracy)\n",
    "        train_accuracy_graph.append(train_accuracy)\n",
    "        \n",
    "        print(\"epoch {}...\".format(i+1))\n",
    "        print(\"Train Accuracy = {:.3f}\".format(train_accuracy))\n",
    "        print(\"Validation Accuracy = {:.3f}\".format(validation_accuracy))\n",
    "        print(\"Test Accuracy = {:.3f}\".format(test_accuracy))\n",
    "        print()\n",
    "    \n",
    "    #Save trained data\n",
    "    try:\n",
    "        saver\n",
    "    except NameError:\n",
    "        saver = tf.train.Saver()\n",
    "    saver.save(sess, save_file)\n",
    "    print(\"Model saved\")\n",
    "        "
   ]
  },
  {
   "cell_type": "markdown",
   "metadata": {},
   "source": [
    "Results\n",
    "\n",
    "The validation accuracy was about 0.95% and the test accuracy was  higher than 0.93%. This is a little better than the aim. \n",
    "\n",
    "- Draw a graph of all accuracies"
   ]
  },
  {
   "cell_type": "code",
   "execution_count": 16,
   "metadata": {},
   "outputs": [
    {
     "data": {
      "image/png": "[encoded data removed]",
      "text/plain": [
       "<matplotlib.figure.Figure at 0x7f810157d828>"
      ]
     },
     "metadata": {},
     "output_type": "display_data"
    }
   ],
   "source": [
    "plt.plot(range(epoch),train_accuracy_graph,'r',label = 'train_accuracy')\n",
    "plt.plot(range(epoch),validation_accuracy_graph,'b', label = 'validation_accuracy')\n",
    "plt.plot(range(epoch),test_accuracy_graph,'g', label = 'test_accuracy')\n",
    "\n",
    "plt.legend()\n",
    "\n",
    "plt.title(\"Test Accuracy\")\n",
    "plt.xlabel('epoch')\n",
    "plt.ylabel('percentage')\n",
    "\n",
    "plt.show()"
   ]
  },
  {
   "cell_type": "markdown",
   "metadata": {},
   "source": [
    "# Step4 - Test a Model on New Images\n",
    "\n",
    "## Acquiring New Images\n",
    "- New images for germany traffic signs\n",
    "\n",
    " Visualize new data and show structure\n"
   ]
  },
  {
   "cell_type": "code",
   "execution_count": 17,
   "metadata": {},
   "outputs": [
    {
     "name": "stdout",
     "output_type": "stream",
     "text": [
      "Shape of the New image \n",
      "(6, 32, 32, 3)\n"
     ]
    },
    {
     "data": {
      "image/png": "[encoded data removed]",
      "text/plain": [
       "<matplotlib.figure.Figure at 0x7f81149ff320>"
      ]
     },
     "metadata": {},
     "output_type": "display_data"
    }
   ],
   "source": [
    "import glob\n",
    "import matplotlib.image as mpimg\n",
    "import cv2\n",
    "\n",
    "fig, axs = plt.subplots(2,3, figsize=(3, 2))\n",
    "fig.subplots_adjust(hspace = .2, wspace=.001)\n",
    "axs = axs.ravel()\n",
    "\n",
    "new_images = []\n",
    "new_images_labels = np.array([17, 31, 26, 3, 34, 23])\n",
    "\n",
    "for i, img in enumerate(glob.glob('/home/nsslab/SDCND/Project_3/New_images/*.png')):\n",
    "    \n",
    "    image = cv2.imread(img)\n",
    "    axs[i].axis('off')\n",
    "    axs[i].imshow(cv2.cvtColor(image, cv2.COLOR_BGR2RGB))\n",
    "    new_images.append(image)\n",
    "    \n",
    "#convert images into array to normalize the images\n",
    "new_images = np.array(new_images)\n",
    "\n",
    "print(\"Shape of the New image \")\n",
    "print(new_images.shape)"
   ]
  },
  {
   "cell_type": "markdown",
   "metadata": {},
   "source": [
    "## Performance on New Images\n",
    "- Normaliza new images and test it on the trained model\n",
    "\n",
    "Instead of learning again to distinguish the new traffic signs, reuse trained data"
   ]
  },
  {
   "cell_type": "code",
   "execution_count": 19,
   "metadata": {},
   "outputs": [
    {
     "name": "stdout",
     "output_type": "stream",
     "text": [
      "new_test Accuracy = 1.000\n"
     ]
    }
   ],
   "source": [
    "import matplotlib.pyplot as plt\n",
    "\n",
    "\"\"\"\n",
    "Gray & Normalization new data\n",
    "\"\"\"\n",
    "new_images = gray(new_images)\n",
    "new_images = Norm(new_images)\n",
    "\n",
    "with tf.Session() as sess:\n",
    "    sess.run(tf.global_variables_initializer())\n",
    "    \n",
    "    #restore trained values\n",
    "    saver.restore(sess, save_file)\n",
    "       \n",
    "    acr = evaluation(new_images, new_images_labels)\n",
    "        \n",
    "    print(\"new_test Accuracy = {:.3f}\".format(acr))"
   ]
  },
  {
   "cell_type": "markdown",
   "metadata": {},
   "source": [
    "## Model Certainty - Softmax Probabilities\n",
    "### Output Top 5 Softmax Probabilities For Each Image Found on the Web\n",
    "\n",
    "\n",
    "For each of the new images, print out the model's softmax probabilities to show the certainty of the model's predictions (limit the output to the top 5 probabilities for each image). tf.nn.top_k could prove helpful here.\n",
    "\n",
    "The example below demonstrates how tf.nn.top_k can be used to find the top k predictions for each image.\n",
    "\n",
    "tf.nn.top_k will return the values and indices (class ids) of the top k predictions. So if k=3, for each sign, it'll return the 3 largest probabilities (out of a possible 43) and the correspoding class ids.\n",
    "\n",
    "Take this numpy array as an example. The values in the array represent predictions. The array contains softmax probabilities for five candidate images with six possible classes. tf.nn.top_k is used to choose the three classes with the highest probability:\n",
    "\n",
    "(5, 6) array\n",
    " \n",
    "a = np.array([[ 0.24879643,  0.07032244,  0.12641572,  0.34763842,  0.07893497,\n",
    "         0.12789202],\n",
    "       [ 0.28086119,  0.27569815,  0.08594638,  0.0178669 ,  0.18063401,\n",
    "         0.15899337],\n",
    "       [ 0.26076848,  0.23664738,  0.08020603,  0.07001922,  0.1134371 ,\n",
    "         0.23892179],\n",
    "       [ 0.11943333,  0.29198961,  0.02605103,  0.26234032,  0.1351348 ,\n",
    "         0.16505091],\n",
    "       [ 0.09561176,  0.34396535,  0.0643941 ,  0.16240774,  0.24206137,\n",
    "         0.09155967]])\n",
    "\n",
    "Running it through sess.run(tf.nn.top_k(tf.constant(a), k=3)) produces:\n",
    "\n",
    "TopKV2(values=array([[ 0.34763842,  0.24879643,  0.12789202],\n",
    "       [ 0.28086119,  0.27569815,  0.18063401],\n",
    "       [ 0.26076848,  0.23892179,  0.23664738],\n",
    "       [ 0.29198961,  0.26234032,  0.16505091],\n",
    "       [ 0.34396535,  0.24206137,  0.16240774]]), indices=array([[3, 0, 5],\n",
    "       [0, 1, 4],\n",
    "       [0, 5, 1],\n",
    "       [1, 3, 5],\n",
    "       [1, 4, 3]], dtype=int32))\n",
    "\n",
    "Looking just at the first row we get [ 0.34763842,  0.24879643,  0.12789202], you can confirm these are the 3 largest probabilities in a. You'll also notice [3, 0, 5] are the corresponding indices.\n",
    "\n",
    "- Apply this to new test images\n",
    " \n",
    " softmax changes the logit obtained to a probability. In other words, when there are several objects to be classified, it is a process that allows one logit to mean probability."
   ]
  },
  {
   "cell_type": "code",
   "execution_count": 23,
   "metadata": {},
   "outputs": [
    {
     "name": "stdout",
     "output_type": "stream",
     "text": [
      "[[  1.00000000e+00   0.00000000e+00   0.00000000e+00   0.00000000e+00\n",
      "    0.00000000e+00]\n",
      " [  1.00000000e+00   1.13913226e-10   1.95684812e-19   1.99063761e-20\n",
      "    1.36049259e-21]\n",
      " [  1.00000000e+00   1.16761053e-25   5.15253179e-30   8.28990355e-33\n",
      "    3.21183718e-38]\n",
      " [  1.00000000e+00   9.25829878e-24   1.17986573e-24   4.63014623e-31\n",
      "    2.43150318e-34]\n",
      " [  1.00000000e+00   0.00000000e+00   0.00000000e+00   0.00000000e+00\n",
      "    0.00000000e+00]\n",
      " [  1.00000000e+00   1.74434690e-17   1.31066851e-17   8.10212760e-19\n",
      "    1.55679947e-20]]\n"
     ]
    }
   ],
   "source": [
    "softmax = tf.nn.softmax(logits)\n",
    "with tf.Session() as sess:\n",
    "    saver.restore(sess, save_file)\n",
    "    new_classes = sess.run(softmax, feed_dict={x:new_images})\n",
    "    value_class = sess.run(tf.nn.top_k(new_classes, k=5, sorted=True))\n",
    "print(value_class[0])\n",
    "    \n"
   ]
  },
  {
   "cell_type": "markdown",
   "metadata": {},
   "source": [
    "- The predicted labels obtained from the highest value coincides with the actual labels.\n",
    "\n",
    " new_images_labels = np.array([17, 31, 26, 3, 34, 23])"
   ]
  },
  {
   "cell_type": "code",
   "execution_count": 22,
   "metadata": {},
   "outputs": [
    {
     "name": "stdout",
     "output_type": "stream",
     "text": [
      "[[17 33 13 34 14]\n",
      " [31 21 25  5 10]\n",
      " [26 18  4  8 12]\n",
      " [ 3 11 23 28  9]\n",
      " [34 38 13  1 32]\n",
      " [23 30 11 10 20]]\n"
     ]
    }
   ],
   "source": [
    "print(value_class[1])"
   ]
  }
 ],
 "metadata": {
  "kernelspec": {
   "display_name": "Python 3",
   "language": "python",
   "name": "python3"
  },
  "language_info": {
   "codemirror_mode": {
    "name": "ipython",
    "version": 3
   },
   "file_extension": ".py",
   "mimetype": "text/x-python",
   "name": "python",
   "nbconvert_exporter": "python",
   "pygments_lexer": "ipython3",
   "version": "3.5.2"
  }
 },
 "nbformat": 4,
 "nbformat_minor": 2
}
